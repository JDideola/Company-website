{
  "nbformat": 4,
  "nbformat_minor": 0,
  "metadata": {
    "colab": {
      "name": "Introduction to Python3.ipynb",
      "provenance": [],
      "collapsed_sections": [],
      "authorship_tag": "ABX9TyMSQO8MAruxvsnQa486TbK/",
      "include_colab_link": true
    },
    "kernelspec": {
      "name": "python3",
      "display_name": "Python 3"
    },
    "language_info": {
      "name": "python"
    }
  },
  "cells": [
    {
      "cell_type": "markdown",
      "metadata": {
        "id": "view-in-github",
        "colab_type": "text"
      },
      "source": [
        "<a href=\"https://colab.research.google.com/github/JoyDid/Company-website/blob/master/Introduction_to_Python3.ipynb\" target=\"_parent\"><img src=\"https://colab.research.google.com/assets/colab-badge.svg\" alt=\"Open In Colab\"/></a>"
      ]
    },
    {
      "cell_type": "code",
      "execution_count": 16,
      "metadata": {
        "colab": {
          "base_uri": "https://localhost:8080/"
        },
        "id": "iquDQlql1Mre",
        "outputId": "ce129480-d21a-41a8-fc1d-f6c10bd7adfb"
      },
      "outputs": [
        {
          "output_type": "stream",
          "name": "stdout",
          "text": [
            "Joy Dideola\n"
          ]
        }
      ],
      "source": [
        "first_name = \"Joy\"\n",
        "last_name = \"Dideola\"\n",
        "print (first_name, last_name)"
      ]
    },
    {
      "cell_type": "code",
      "source": [
        "names= [first_name, last_name]\n",
        "print(names)"
      ],
      "metadata": {
        "colab": {
          "base_uri": "https://localhost:8080/"
        },
        "id": "SoqUEd65CF66",
        "outputId": "b9c11700-7a01-4f74-d497-2deba9865e7d"
      },
      "execution_count": 26,
      "outputs": [
        {
          "output_type": "stream",
          "name": "stdout",
          "text": [
            "['Joy', 'Dideola']\n"
          ]
        }
      ]
    },
    {
      "cell_type": "code",
      "source": [
        "boolvar = bool(1)\n",
        "print(bool)"
      ],
      "metadata": {
        "colab": {
          "base_uri": "https://localhost:8080/"
        },
        "id": "5fpOu_l2EB2B",
        "outputId": "f6fb70a9-a2f5-43a5-c81d-12d14bd5d69d"
      },
      "execution_count": 29,
      "outputs": [
        {
          "output_type": "stream",
          "name": "stdout",
          "text": [
            "<class 'bool'>\n"
          ]
        }
      ]
    },
    {
      "cell_type": "code",
      "source": [
        "fuel_per_lap = 2.25\n",
        "laps = 45\n",
        "fuel_requirement = fuel_per_lap * laps\n",
        "fuel = fuel_requirement * 1.5\n",
        "print (\"full fuel load: \", fuel, \"kg\" )"
      ],
      "metadata": {
        "colab": {
          "base_uri": "https://localhost:8080/"
        },
        "id": "ZDmnxueqlJTY",
        "outputId": "20cf46f9-fc1c-4cc7-b603-7acadacf9a97"
      },
      "execution_count": 30,
      "outputs": [
        {
          "output_type": "stream",
          "name": "stdout",
          "text": [
            "full fuel load:  151.875 kg\n"
          ]
        }
      ]
    },
    {
      "cell_type": "code",
      "source": [
        "import sys\n",
        "\n",
        "pin = \"3446\"\n",
        "limit = 4\n",
        "for tries in range(1,limit):\n",
        "  supplied_pin = input(\"Enter you pin: \")\n",
        "if supplied_pin== pin:\n",
        "  print(\"correct pin\")\n",
        "  print(\"... and after only\", tries, \"attempts\")\n",
        "else:\n",
        "  print(\"you had\", tries, \"tries and failed\")"
      ],
      "metadata": {
        "colab": {
          "base_uri": "https://localhost:8080/"
        },
        "id": "TIJNaT2n7wtH",
        "outputId": "f160c659-c83c-46bd-8c90-d084f213b718"
      },
      "execution_count": 47,
      "outputs": [
        {
          "output_type": "stream",
          "name": "stdout",
          "text": [
            "Enter you pin: 3446\n",
            "Enter you pin: 6666\n",
            "Enter you pin: 3446\n",
            "correct pin\n",
            "... and after only 3 attempts\n"
          ]
        }
      ]
    },
    {
      "cell_type": "code",
      "source": [
        "date = input('Please enter date (DD/MM/YYYY): ')\n",
        "d, m, y = date.split('/')\n",
        "d = int(d)\n",
        "m = int(m)\n",
        "y = int(y)\n",
        "\n",
        "\n",
        "if m == 1 or m == 2:      \n",
        "    m += 12\n",
        "    if y%4 == 0 and (y%400 == 0 or y%100 != 0):\n",
        "        d -= 2\n",
        "    else:\n",
        "        d -= 1\n",
        "\n",
        "z = 1 + d + (m*2) + (3 * (m+1)//5) + y + y//4 - y//100 + y//400\n",
        "z %= 7\n",
        "\n",
        "days = ['Sun', 'Mon', 'Tues', 'Wednes', 'Thurs', 'Fri', 'Satur']\n",
        "print(days[z] + 'day')"
      ],
      "metadata": {
        "colab": {
          "base_uri": "https://localhost:8080/"
        },
        "id": "95RNPL7HDYp_",
        "outputId": "f18355df-3bb6-41f5-84bd-7cd900dc9fd3"
      },
      "execution_count": 48,
      "outputs": [
        {
          "output_type": "stream",
          "name": "stdout",
          "text": [
            "Please enter date (DD/MM/YYYY): 02/06/1995\n",
            "Friday\n"
          ]
        }
      ]
    }
  ]
}