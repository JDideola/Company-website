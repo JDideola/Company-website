{
  "nbformat": 4,
  "nbformat_minor": 0,
  "metadata": {
    "colab": {
      "name": "Introduction to Python3.ipynb",
      "provenance": [],
      "collapsed_sections": [],
      "authorship_tag": "ABX9TyOo+TF+j8ltMxnmeIpO5m0+",
      "include_colab_link": true
    },
    "kernelspec": {
      "name": "python3",
      "display_name": "Python 3"
    },
    "language_info": {
      "name": "python"
    }
  },
  "cells": [
    {
      "cell_type": "markdown",
      "metadata": {
        "id": "view-in-github",
        "colab_type": "text"
      },
      "source": [
        "<a href=\"https://colab.research.google.com/github/JoyDid/Company-website/blob/master/Introduction_to_Python3.ipynb\" target=\"_parent\"><img src=\"https://colab.research.google.com/assets/colab-badge.svg\" alt=\"Open In Colab\"/></a>"
      ]
    },
    {
      "cell_type": "code",
      "execution_count": 16,
      "metadata": {
        "colab": {
          "base_uri": "https://localhost:8080/"
        },
        "id": "iquDQlql1Mre",
        "outputId": "ce129480-d21a-41a8-fc1d-f6c10bd7adfb"
      },
      "outputs": [
        {
          "output_type": "stream",
          "name": "stdout",
          "text": [
            "Joy Dideola\n"
          ]
        }
      ],
      "source": [
        "first_name = \"Joy\"\n",
        "last_name = \"Dideola\"\n",
        "print (first_name, last_name)"
      ]
    },
    {
      "cell_type": "code",
      "source": [
        "names= [first_name, last_name]\n",
        "print(names)"
      ],
      "metadata": {
        "colab": {
          "base_uri": "https://localhost:8080/"
        },
        "id": "SoqUEd65CF66",
        "outputId": "b9c11700-7a01-4f74-d497-2deba9865e7d"
      },
      "execution_count": 26,
      "outputs": [
        {
          "output_type": "stream",
          "name": "stdout",
          "text": [
            "['Joy', 'Dideola']\n"
          ]
        }
      ]
    },
    {
      "cell_type": "code",
      "source": [
        "boolvar = bool(1)\n",
        "print(bool)"
      ],
      "metadata": {
        "colab": {
          "base_uri": "https://localhost:8080/"
        },
        "id": "5fpOu_l2EB2B",
        "outputId": "f6fb70a9-a2f5-43a5-c81d-12d14bd5d69d"
      },
      "execution_count": 29,
      "outputs": [
        {
          "output_type": "stream",
          "name": "stdout",
          "text": [
            "<class 'bool'>\n"
          ]
        }
      ]
    },
    {
      "cell_type": "code",
      "source": [
        "fuel_per_lap = 2.25\n",
        "laps = 45\n",
        "fuel_requirement = fuel_per_lap * laps\n",
        "fuel = fuel_requirement * 1.5\n",
        "print (\"full fuel load: \", fuel, \"kg\" )"
      ],
      "metadata": {
        "colab": {
          "base_uri": "https://localhost:8080/"
        },
        "id": "ZDmnxueqlJTY",
        "outputId": "20cf46f9-fc1c-4cc7-b603-7acadacf9a97"
      },
      "execution_count": 30,
      "outputs": [
        {
          "output_type": "stream",
          "name": "stdout",
          "text": [
            "full fuel load:  151.875 kg\n"
          ]
        }
      ]
    },
    {
      "cell_type": "code",
      "source": [
        "import sys\n",
        "\n",
        "pin = \"3446\"\n",
        "limit = 4\n",
        "for tries in range(1,limit):\n",
        "  supplied_pin =input(\"Enter you pin: \")\n",
        "if supplied_pin==pin:\n",
        "  print(\"correct pin\")\n",
        "  print(\"... and after only\", tries, \"attempts\")\n",
        "  \n",
        "else:\n",
        "  print(\"you had\", tries, \"tries and failed\")"
      ],
      "metadata": {
        "colab": {
          "base_uri": "https://localhost:8080/"
        },
        "id": "TIJNaT2n7wtH",
        "outputId": "24bf3086-304f-42d3-838d-de3d7d6b7b10"
      },
      "execution_count": null,
      "outputs": [
        {
          "name": "stdout",
          "output_type": "stream",
          "text": [
            "Enter you pin: 3446\n"
          ]
        }
      ]
    }
  ]
}